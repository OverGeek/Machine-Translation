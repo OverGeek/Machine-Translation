{
  "nbformat": 4,
  "nbformat_minor": 0,
  "metadata": {
    "colab": {
      "name": "Machine_Translation.ipynb",
      "version": "0.3.2",
      "provenance": [],
      "collapsed_sections": []
    },
    "kernelspec": {
      "name": "python3",
      "display_name": "Python 3"
    },
    "accelerator": "GPU"
  },
  "cells": [
    {
      "metadata": {
        "id": "KX19a-At-av5",
        "colab_type": "code",
        "colab": {
          "base_uri": "https://localhost:8080/",
          "height": 34
        },
        "outputId": "fc9a717c-de7f-4129-d9fc-7d35e0d630ed"
      },
      "cell_type": "code",
      "source": [
        "!unzip 'Machine Translation.zip'"
      ],
      "execution_count": 144,
      "outputs": [
        {
          "output_type": "stream",
          "text": [
            "unzip:  cannot find or open Machine Translation.zip, Machine Translation.zip.zip or Machine Translation.zip.ZIP.\n"
          ],
          "name": "stdout"
        }
      ]
    },
    {
      "metadata": {
        "id": "A02rBRXy-r10",
        "colab_type": "code",
        "colab": {
          "base_uri": "https://localhost:8080/",
          "height": 51
        },
        "outputId": "85089aaa-b2fe-473c-f089-39c860c7855a"
      },
      "cell_type": "code",
      "source": [
        "cd 'Machine Translation'"
      ],
      "execution_count": 145,
      "outputs": [
        {
          "output_type": "stream",
          "text": [
            "[Errno 2] No such file or directory: 'Machine Translation'\n",
            "/content/Machine Translation\n"
          ],
          "name": "stdout"
        }
      ]
    },
    {
      "metadata": {
        "id": "E4bWVqEKAQxt",
        "colab_type": "code",
        "colab": {
          "base_uri": "https://localhost:8080/",
          "height": 85
        },
        "outputId": "f1424fc8-8813-4093-c3f4-4f68785b05f4"
      },
      "cell_type": "code",
      "source": [
        "!pip install faker"
      ],
      "execution_count": 146,
      "outputs": [
        {
          "output_type": "stream",
          "text": [
            "Requirement already satisfied: faker in /usr/local/lib/python3.6/dist-packages (1.0.1)\n",
            "Requirement already satisfied: python-dateutil>=2.4 in /usr/local/lib/python3.6/dist-packages (from faker) (2.5.3)\n",
            "Requirement already satisfied: text-unidecode==1.2 in /usr/local/lib/python3.6/dist-packages (from faker) (1.2)\n",
            "Requirement already satisfied: six>=1.10 in /usr/local/lib/python3.6/dist-packages (from faker) (1.11.0)\n"
          ],
          "name": "stdout"
        }
      ]
    },
    {
      "metadata": {
        "id": "Ems1aVK7-2ui",
        "colab_type": "text"
      },
      "cell_type": "markdown",
      "source": [
        "**CREATING A DATASET FOR MACHINE TRANSLATION**\n",
        "\n"
      ]
    },
    {
      "metadata": {
        "id": "2VtxaCr8_L4C",
        "colab_type": "code",
        "colab": {}
      },
      "cell_type": "code",
      "source": [
        "from faker import Faker\n",
        "import random\n",
        "from tqdm import tqdm\n",
        "from babel.dates import format_date\n",
        "\n",
        "fake = Faker()\n",
        "# Define format of the data we would like to generate\n",
        "FORMATS = ['short',\n",
        "           'medium',\n",
        "           'long',\n",
        "           'full',\n",
        "           'full',\n",
        "           'full',\n",
        "           'full',\n",
        "           'full',\n",
        "           'full',\n",
        "           'full',\n",
        "           'full',\n",
        "           'full',\n",
        "           'full',\n",
        "           'd MMM YYY', \n",
        "           'd MMMM YYY',\n",
        "           'dd MMM YYY',\n",
        "           'd MMM, YYY',\n",
        "           'd MMMM, YYY',\n",
        "           'dd, MMM YYY',\n",
        "           'd MM YY',\n",
        "           'd MMMM YYY',\n",
        "           'MMMM d YYY',\n",
        "           'MMMM d, YYY',\n",
        "           'dd.MM.YY']"
      ],
      "execution_count": 0,
      "outputs": []
    },
    {
      "metadata": {
        "id": "847AZS0H_I4w",
        "colab_type": "code",
        "colab": {}
      },
      "cell_type": "code",
      "source": [
        "\"\"\"\n",
        "    Loads some fake dates \n",
        "   :returns: tuple containing human readable string, machine readable string, and date object\n",
        "\"\"\"\n",
        "\n",
        "def load_date():\n",
        "    dt = fake.date_object()\n",
        "\n",
        "    try:\n",
        "        human_readable = format_date(dt, format=random.choice(FORMATS),  locale='en_US') # locale=random.choice(LOCALES))\n",
        "        human_readable = human_readable.lower()\n",
        "        human_readable = human_readable.replace(',','')\n",
        "        machine_readable = dt.isoformat()\n",
        "        \n",
        "    except AttributeError as e:\n",
        "        return None, None, None\n",
        "\n",
        "    return human_readable, machine_readable, dt"
      ],
      "execution_count": 0,
      "outputs": []
    },
    {
      "metadata": {
        "id": "JcE5vixQAutx",
        "colab_type": "code",
        "colab": {
          "base_uri": "https://localhost:8080/",
          "height": 34
        },
        "outputId": "c2687466-20fb-4006-eb18-7e70fcbbe290"
      },
      "cell_type": "code",
      "source": [
        "load_date()"
      ],
      "execution_count": 149,
      "outputs": [
        {
          "output_type": "execute_result",
          "data": {
            "text/plain": [
              "('monday september 18 2017', '2017-09-18', datetime.date(2017, 9, 18))"
            ]
          },
          "metadata": {
            "tags": []
          },
          "execution_count": 149
        }
      ]
    },
    {
      "metadata": {
        "id": "IUolDrpOAwVa",
        "colab_type": "code",
        "colab": {}
      },
      "cell_type": "code",
      "source": [
        "\"\"\"\n",
        "    Loads a dataset with m examples and vocabularies\n",
        "    m: the number of examples to generate\n",
        "\"\"\"\n",
        "def load_dataset(m):\n",
        "    \n",
        "    human_vocab = set()\n",
        "    machine_vocab = set()\n",
        "    dataset = []\n",
        "    Tx = 30\n",
        "    \n",
        "\n",
        "    for i in tqdm(range(m)):   # tqdm just generates a progress bar\n",
        "        h, m, _ = load_date()\n",
        "        if h is not None:\n",
        "            dataset.append((h, m))\n",
        "            human_vocab.update(tuple(h))   # tuple('string') = ('s', 't,', 'r', 'i', 'n', 'g')\n",
        "            machine_vocab.update(tuple(m))  \n",
        "         \n",
        "    print(human_vocab)\n",
        "    \n",
        "    human = dict(zip(sorted(human_vocab) + ['<unk>', '<pad>'],  #sorted will create a list of the set in sorted order\n",
        "                     list(range(len(human_vocab) + 2))))\n",
        "    inv_machine = dict(enumerate(sorted(machine_vocab)))\n",
        "    machine = {v:k for k,v in inv_machine.items()}\n",
        " \n",
        "    return dataset, human, machine, inv_machine"
      ],
      "execution_count": 0,
      "outputs": []
    },
    {
      "metadata": {
        "id": "Q_udD7taBf2k",
        "colab_type": "code",
        "colab": {
          "base_uri": "https://localhost:8080/",
          "height": 1023
        },
        "outputId": "a8ed6b0e-2f08-4b96-dccc-58d5f04821f7"
      },
      "cell_type": "code",
      "source": [
        "load_dataset(5)"
      ],
      "execution_count": 151,
      "outputs": [
        {
          "output_type": "stream",
          "text": [
            "100%|██████████| 5/5 [00:00<00:00, 3309.90it/s]"
          ],
          "name": "stderr"
        },
        {
          "output_type": "stream",
          "text": [
            "{'9', 'g', '6', '2', 'h', 't', 'c', 'n', 'm', 'p', '5', '1', 's', 'a', 'b', 'l', 'i', 'e', '3', '7', 'd', 'r', 'u', ' ', '0', 'y', 'o'}\n"
          ],
          "name": "stdout"
        },
        {
          "output_type": "stream",
          "text": [
            "\n"
          ],
          "name": "stderr"
        },
        {
          "output_type": "execute_result",
          "data": {
            "text/plain": [
              "([('sunday october 25 1992', '1992-10-25'),\n",
              "  ('20 03 07', '2007-03-20'),\n",
              "  ('sunday may 9 1976', '1976-05-09'),\n",
              "  ('tuesday august 22 1972', '1972-08-22'),\n",
              "  ('thursday april 12 1973', '1973-04-12')],\n",
              " {' ': 0,\n",
              "  '0': 1,\n",
              "  '1': 2,\n",
              "  '2': 3,\n",
              "  '3': 4,\n",
              "  '5': 5,\n",
              "  '6': 6,\n",
              "  '7': 7,\n",
              "  '9': 8,\n",
              "  '<pad>': 28,\n",
              "  '<unk>': 27,\n",
              "  'a': 9,\n",
              "  'b': 10,\n",
              "  'c': 11,\n",
              "  'd': 12,\n",
              "  'e': 13,\n",
              "  'g': 14,\n",
              "  'h': 15,\n",
              "  'i': 16,\n",
              "  'l': 17,\n",
              "  'm': 18,\n",
              "  'n': 19,\n",
              "  'o': 20,\n",
              "  'p': 21,\n",
              "  'r': 22,\n",
              "  's': 23,\n",
              "  't': 24,\n",
              "  'u': 25,\n",
              "  'y': 26},\n",
              " {'-': 0,\n",
              "  '0': 1,\n",
              "  '1': 2,\n",
              "  '2': 3,\n",
              "  '3': 4,\n",
              "  '4': 5,\n",
              "  '5': 6,\n",
              "  '6': 7,\n",
              "  '7': 8,\n",
              "  '8': 9,\n",
              "  '9': 10},\n",
              " {0: '-',\n",
              "  1: '0',\n",
              "  2: '1',\n",
              "  3: '2',\n",
              "  4: '3',\n",
              "  5: '4',\n",
              "  6: '5',\n",
              "  7: '6',\n",
              "  8: '7',\n",
              "  9: '8',\n",
              "  10: '9'})"
            ]
          },
          "metadata": {
            "tags": []
          },
          "execution_count": 151
        }
      ]
    },
    {
      "metadata": {
        "id": "Kgbm8eFnCUnT",
        "colab_type": "code",
        "colab": {
          "base_uri": "https://localhost:8080/",
          "height": 71
        },
        "outputId": "1d80360d-4152-4e5f-9acb-a7b38f69aa04"
      },
      "cell_type": "code",
      "source": [
        "# creating a dataset of 10000 training entries\n",
        "m = 10000\n",
        "dataset, human_vocab, machine_vocab, inv_machine_vocab = load_dataset(m)"
      ],
      "execution_count": 152,
      "outputs": [
        {
          "output_type": "stream",
          "text": [
            "100%|██████████| 10000/10000 [00:00<00:00, 17124.84it/s]"
          ],
          "name": "stderr"
        },
        {
          "output_type": "stream",
          "text": [
            "{'9', '.', 'g', 'j', '6', '2', 'h', 't', 'c', 'n', 'm', 'p', '5', '1', 'f', 's', 'a', 'b', '/', 'l', 'i', 'e', 'v', 'w', '3', '7', 'd', 'r', 'u', ' ', '4', '0', '8', 'y', 'o'}\n"
          ],
          "name": "stdout"
        },
        {
          "output_type": "stream",
          "text": [
            "\n"
          ],
          "name": "stderr"
        }
      ]
    },
    {
      "metadata": {
        "id": "WeDvieVaES8S",
        "colab_type": "code",
        "colab": {
          "base_uri": "https://localhost:8080/",
          "height": 187
        },
        "outputId": "aa3ef54b-9308-4b29-f2f1-0b9526abadda"
      },
      "cell_type": "code",
      "source": [
        "dataset[:10]"
      ],
      "execution_count": 153,
      "outputs": [
        {
          "output_type": "execute_result",
          "data": {
            "text/plain": [
              "[('2 jan 1971', '1971-01-02'),\n",
              " ('18 aug 1980', '1980-08-18'),\n",
              " ('december 11 1982', '1982-12-11'),\n",
              " ('saturday july 28 2007', '2007-07-28'),\n",
              " ('wednesday march 3 1999', '1999-03-03'),\n",
              " ('wednesday september 26 1979', '1979-09-26'),\n",
              " ('18 march 1976', '1976-03-18'),\n",
              " ('30 04 77', '1977-04-30'),\n",
              " ('sunday december 25 1988', '1988-12-25'),\n",
              " ('saturday april 20 1996', '1996-04-20')]"
            ]
          },
          "metadata": {
            "tags": []
          },
          "execution_count": 153
        }
      ]
    },
    {
      "metadata": {
        "id": "pVoKQ-rAEp-d",
        "colab_type": "text"
      },
      "cell_type": "markdown",
      "source": [
        "**PRE-PROCESSING DATA, MAPPING STRING TO LIST OF INTEGERS**"
      ]
    },
    {
      "metadata": {
        "id": "HvpNXVziE643",
        "colab_type": "code",
        "colab": {}
      },
      "cell_type": "code",
      "source": [
        "import numpy as np\n",
        "from keras.utils import to_categorical\n",
        "\n",
        "def string_to_int(string, length, vocab):\n",
        "    \"\"\"\n",
        "    Converts all strings in the vocabulary into a list of integers representing the positions of the\n",
        "    input string's characters in the \"vocab\"\n",
        "    \n",
        "    Arguments:\n",
        "    string -- input string, e.g. 'Wed 10 Jul 2007'\n",
        "    length -- the number of time steps you'd like, determines if the output will be padded or cut\n",
        "    vocab -- vocabulary, dictionary used to index every character of your \"string\"\n",
        "    \n",
        "    Returns:\n",
        "    rep -- list of integers (or '<unk>') (size = length) representing the position of the string's character in the vocabulary\n",
        "    \"\"\"\n",
        "    \n",
        "    #make lower to standardize\n",
        "    string = string.lower()\n",
        "    string = string.replace(',','')\n",
        "    \n",
        "    if len(string) > length:\n",
        "        string = string[:length]\n",
        "        \n",
        "    rep = list(map(lambda x: vocab.get(x, '<unk>'), string))\n",
        "    #print(rep)\n",
        "    \n",
        "    if len(string) < length:\n",
        "        rep += [vocab['<pad>']] * (length - len(string))\n",
        "    \n",
        "    #print (rep)\n",
        "    return rep"
      ],
      "execution_count": 0,
      "outputs": []
    },
    {
      "metadata": {
        "id": "eF5ZuNZXHVPI",
        "colab_type": "code",
        "colab": {}
      },
      "cell_type": "code",
      "source": [
        "def int_to_string(ints, inv_vocab):\n",
        "    \"\"\"\n",
        "    Output a machine readable list of characters based on a list of indexes in the machine's vocabulary\n",
        "    \n",
        "    Arguments:\n",
        "    ints -- list of integers representing indexes in the machine's vocabulary\n",
        "    inv_vocab -- dictionary mapping machine readable indexes to machine readable characters \n",
        "    \n",
        "    Returns:\n",
        "    l -- list of characters corresponding to the indexes of ints thanks to the inv_vocab mapping\n",
        "    \"\"\"\n",
        "    \n",
        "    l = [inv_vocab[i] for i in ints]\n",
        "    return l"
      ],
      "execution_count": 0,
      "outputs": []
    },
    {
      "metadata": {
        "id": "SCuFav9YHbpJ",
        "colab_type": "code",
        "colab": {}
      },
      "cell_type": "code",
      "source": [
        "def preprocess_data(dataset, human_vocab, machine_vocab, Tx, Ty):\n",
        "    \n",
        "    X, Y = zip(*dataset)\n",
        "    \n",
        "    X = np.array([string_to_int(i, Tx, human_vocab) for i in X])\n",
        "    Y = np.array([string_to_int(t, Ty, machine_vocab) for t in Y])\n",
        "    \n",
        "    Xoh = np.array(list(map(lambda x: to_categorical(x, num_classes=len(human_vocab)), X)))\n",
        "    Yoh = np.array(list(map(lambda x: to_categorical(x, num_classes=len(machine_vocab)), Y)))\n",
        "\n",
        "    return X, Y, Xoh, Yoh"
      ],
      "execution_count": 0,
      "outputs": []
    },
    {
      "metadata": {
        "id": "8Tclc732IV-3",
        "colab_type": "code",
        "colab": {
          "base_uri": "https://localhost:8080/",
          "height": 85
        },
        "outputId": "4470345e-e155-432c-e503-34d3bf81c81e"
      },
      "cell_type": "code",
      "source": [
        "Tx = 30\n",
        "Ty = 10\n",
        "X, Y, Xoh, Yoh = preprocess_data(dataset, human_vocab, machine_vocab, Tx, Ty)\n",
        "\n",
        "print(\"X.shape:\", X.shape)\n",
        "print(\"Y.shape:\", Y.shape)\n",
        "print(\"Xoh.shape:\", Xoh.shape)\n",
        "print(\"Yoh.shape:\", Yoh.shape)"
      ],
      "execution_count": 157,
      "outputs": [
        {
          "output_type": "stream",
          "text": [
            "X.shape: (10000, 30)\n",
            "Y.shape: (10000, 10)\n",
            "Xoh.shape: (10000, 30, 37)\n",
            "Yoh.shape: (10000, 10, 11)\n"
          ],
          "name": "stdout"
        }
      ]
    },
    {
      "metadata": {
        "id": "QL7KiEjOJN9S",
        "colab_type": "text"
      },
      "cell_type": "markdown",
      "source": [
        "**BUILDING THE ATTENTION MECHANISM TO CALCULATE CONTEXT OF EACH TIME-STEP OF PRE-ATTENTION BI-LSTM**"
      ]
    },
    {
      "metadata": {
        "id": "5nBNxeeUIcxI",
        "colab_type": "code",
        "colab": {}
      },
      "cell_type": "code",
      "source": [
        "from keras.layers import RepeatVector, Dense, Activation, Concatenate, Dense, Dot, LSTM\n",
        "import keras.backend as K"
      ],
      "execution_count": 0,
      "outputs": []
    },
    {
      "metadata": {
        "id": "-pief_QfLLSU",
        "colab_type": "code",
        "colab": {}
      },
      "cell_type": "code",
      "source": [
        "def softmax(x, axis=1):\n",
        "    \"\"\"Softmax activation function.\n",
        "    # Arguments\n",
        "        x : Tensor.\n",
        "        axis: Integer, axis along which the softmax normalization is applied.\n",
        "    # Returns\n",
        "        Tensor, output of softmax transformation.\n",
        "    # Raises\n",
        "        ValueError: In case `dim(x) == 1`.\n",
        "    \"\"\"\n",
        "    ndim = K.ndim(x)\n",
        "    if ndim == 2:\n",
        "        return K.softmax(x)\n",
        "    elif ndim > 2:\n",
        "        e = K.exp(x - K.max(x, axis=axis, keepdims=True))\n",
        "        s = K.sum(e, axis=axis, keepdims=True)\n",
        "        return e / s\n",
        "    else:\n",
        "        raise ValueError('Cannot apply softmax to a tensor that is 1D')"
      ],
      "execution_count": 0,
      "outputs": []
    },
    {
      "metadata": {
        "id": "JCoqqpeSJ6Zg",
        "colab_type": "code",
        "colab": {}
      },
      "cell_type": "code",
      "source": [
        "repeator = RepeatVector(Tx)\n",
        "concatenator = Concatenate(axis=-1)\n",
        "densor1 = Dense(10, activation = 'tanh')\n",
        "densor2 = Dense(1, activation = 'relu')\n",
        "activator = Activation(softmax, name = 'attention_weights_alpha')  # Custom softmax to calculate about axis = 1\n",
        "dotor = Dot(axes = 1)"
      ],
      "execution_count": 0,
      "outputs": []
    },
    {
      "metadata": {
        "id": "UTkwX2LZLm0q",
        "colab_type": "code",
        "colab": {}
      },
      "cell_type": "code",
      "source": [
        "#Calculates context value for one time-step\n",
        "\n",
        "def one_step_attention(a, s_prev):\n",
        "  \"\"\"Arguments:\n",
        "    a -- hidden state output of the Bi-LSTM, numpy-array of shape (m, Tx, 2*n_a)\n",
        "    s_prev -- previous hidden state of the (post-attention) LSTM, numpy-array of shape (m, n_s)\n",
        "  \"\"\"\n",
        "  \n",
        "  s_prev = repeator(s_prev)\n",
        "  concat = concatenator([a, s_prev])\n",
        "  e = densor1(concat)\n",
        "  energies = densor2(e)\n",
        "  alphas = activator(energies)\n",
        "  context = dotor([alphas, a])\n",
        "  \n",
        "  return context  # shape of context is (m, 2*n_a)"
      ],
      "execution_count": 0,
      "outputs": []
    },
    {
      "metadata": {
        "id": "0OOIvUfNMt2P",
        "colab_type": "text"
      },
      "cell_type": "markdown",
      "source": [
        "**DEFINING LAYERS OF POST-LSTM MODEL**\n",
        "\n"
      ]
    },
    {
      "metadata": {
        "id": "BYcYi3HsMycs",
        "colab_type": "code",
        "colab": {}
      },
      "cell_type": "code",
      "source": [
        "n_a = 32\n",
        "n_s = 64\n",
        "post_activation_LSTM_cell = LSTM(n_s, return_state = True)\n",
        "output_layer = Dense(len(machine_vocab), activation = 'softmax')"
      ],
      "execution_count": 0,
      "outputs": []
    },
    {
      "metadata": {
        "id": "yBIOoAX-Vj_C",
        "colab_type": "text"
      },
      "cell_type": "markdown",
      "source": [
        "**MAKING THE MODEL**"
      ]
    },
    {
      "metadata": {
        "id": "sMP8r8PLVmwQ",
        "colab_type": "code",
        "colab": {}
      },
      "cell_type": "code",
      "source": [
        "from keras.layers import Bidirectional, Input\n",
        "from keras.models import Model\n",
        "\n",
        "def model(Tx, Ty, n_a, n_s, human_vocab, machine_vocab):\n",
        "  X = Input((Tx, human_vocab))\n",
        "  s0 = Input((n_s,), name = 's0')\n",
        "  c0 = Input((n_s,), name = 'c0')\n",
        "  s = s0\n",
        "  c = c0\n",
        "  \n",
        "  outputs = []\n",
        "  \n",
        "  a = Bidirectional(LSTM(n_a, return_sequences = True))(X)\n",
        "  \n",
        "  for t in range(Ty):\n",
        "    context = one_step_attention(a, s)\n",
        "    s, _, c = post_activation_LSTM_cell(context, initial_state = [s, c])\n",
        "    out = output_layer(s)\n",
        "    outputs.append(out)\n",
        "    \n",
        "  model = Model(inputs = [X, s0, c0], outputs = outputs)\n",
        "  \n",
        "  return model"
      ],
      "execution_count": 0,
      "outputs": []
    },
    {
      "metadata": {
        "id": "os8QEKkIX9Of",
        "colab_type": "code",
        "colab": {}
      },
      "cell_type": "code",
      "source": [
        "model = model(Tx, Ty, n_a, n_s, len(human_vocab), len(machine_vocab))"
      ],
      "execution_count": 0,
      "outputs": []
    },
    {
      "metadata": {
        "id": "mJejhBlpYUw6",
        "colab_type": "code",
        "colab": {
          "base_uri": "https://localhost:8080/",
          "height": 2448
        },
        "outputId": "d231cf55-d643-47cf-8e1b-06bf3677806a"
      },
      "cell_type": "code",
      "source": [
        "model.summary()"
      ],
      "execution_count": 165,
      "outputs": [
        {
          "output_type": "stream",
          "text": [
            "__________________________________________________________________________________________________\n",
            "Layer (type)                    Output Shape         Param #     Connected to                     \n",
            "==================================================================================================\n",
            "input_11 (InputLayer)           (None, 30, 37)       0                                            \n",
            "__________________________________________________________________________________________________\n",
            "s0 (InputLayer)                 (None, 64)           0                                            \n",
            "__________________________________________________________________________________________________\n",
            "bidirectional_8 (Bidirectional) (None, 30, 64)       17920       input_11[0][0]                   \n",
            "__________________________________________________________________________________________________\n",
            "repeat_vector_5 (RepeatVector)  (None, 30, 64)       0           s0[0][0]                         \n",
            "                                                                 lstm_13[0][0]                    \n",
            "                                                                 lstm_13[1][0]                    \n",
            "                                                                 lstm_13[2][0]                    \n",
            "                                                                 lstm_13[3][0]                    \n",
            "                                                                 lstm_13[4][0]                    \n",
            "                                                                 lstm_13[5][0]                    \n",
            "                                                                 lstm_13[6][0]                    \n",
            "                                                                 lstm_13[7][0]                    \n",
            "                                                                 lstm_13[8][0]                    \n",
            "__________________________________________________________________________________________________\n",
            "concatenate_5 (Concatenate)     (None, 30, 128)      0           bidirectional_8[0][0]            \n",
            "                                                                 repeat_vector_5[0][0]            \n",
            "                                                                 bidirectional_8[0][0]            \n",
            "                                                                 repeat_vector_5[1][0]            \n",
            "                                                                 bidirectional_8[0][0]            \n",
            "                                                                 repeat_vector_5[2][0]            \n",
            "                                                                 bidirectional_8[0][0]            \n",
            "                                                                 repeat_vector_5[3][0]            \n",
            "                                                                 bidirectional_8[0][0]            \n",
            "                                                                 repeat_vector_5[4][0]            \n",
            "                                                                 bidirectional_8[0][0]            \n",
            "                                                                 repeat_vector_5[5][0]            \n",
            "                                                                 bidirectional_8[0][0]            \n",
            "                                                                 repeat_vector_5[6][0]            \n",
            "                                                                 bidirectional_8[0][0]            \n",
            "                                                                 repeat_vector_5[7][0]            \n",
            "                                                                 bidirectional_8[0][0]            \n",
            "                                                                 repeat_vector_5[8][0]            \n",
            "                                                                 bidirectional_8[0][0]            \n",
            "                                                                 repeat_vector_5[9][0]            \n",
            "__________________________________________________________________________________________________\n",
            "dense_14 (Dense)                (None, 30, 10)       1290        concatenate_5[0][0]              \n",
            "                                                                 concatenate_5[1][0]              \n",
            "                                                                 concatenate_5[2][0]              \n",
            "                                                                 concatenate_5[3][0]              \n",
            "                                                                 concatenate_5[4][0]              \n",
            "                                                                 concatenate_5[5][0]              \n",
            "                                                                 concatenate_5[6][0]              \n",
            "                                                                 concatenate_5[7][0]              \n",
            "                                                                 concatenate_5[8][0]              \n",
            "                                                                 concatenate_5[9][0]              \n",
            "__________________________________________________________________________________________________\n",
            "dense_15 (Dense)                (None, 30, 1)        11          dense_14[0][0]                   \n",
            "                                                                 dense_14[1][0]                   \n",
            "                                                                 dense_14[2][0]                   \n",
            "                                                                 dense_14[3][0]                   \n",
            "                                                                 dense_14[4][0]                   \n",
            "                                                                 dense_14[5][0]                   \n",
            "                                                                 dense_14[6][0]                   \n",
            "                                                                 dense_14[7][0]                   \n",
            "                                                                 dense_14[8][0]                   \n",
            "                                                                 dense_14[9][0]                   \n",
            "__________________________________________________________________________________________________\n",
            "attention_weights_alpha (Activa (None, 30, 1)        0           dense_15[0][0]                   \n",
            "                                                                 dense_15[1][0]                   \n",
            "                                                                 dense_15[2][0]                   \n",
            "                                                                 dense_15[3][0]                   \n",
            "                                                                 dense_15[4][0]                   \n",
            "                                                                 dense_15[5][0]                   \n",
            "                                                                 dense_15[6][0]                   \n",
            "                                                                 dense_15[7][0]                   \n",
            "                                                                 dense_15[8][0]                   \n",
            "                                                                 dense_15[9][0]                   \n",
            "__________________________________________________________________________________________________\n",
            "dot_5 (Dot)                     (None, 1, 64)        0           attention_weights_alpha[0][0]    \n",
            "                                                                 bidirectional_8[0][0]            \n",
            "                                                                 attention_weights_alpha[1][0]    \n",
            "                                                                 bidirectional_8[0][0]            \n",
            "                                                                 attention_weights_alpha[2][0]    \n",
            "                                                                 bidirectional_8[0][0]            \n",
            "                                                                 attention_weights_alpha[3][0]    \n",
            "                                                                 bidirectional_8[0][0]            \n",
            "                                                                 attention_weights_alpha[4][0]    \n",
            "                                                                 bidirectional_8[0][0]            \n",
            "                                                                 attention_weights_alpha[5][0]    \n",
            "                                                                 bidirectional_8[0][0]            \n",
            "                                                                 attention_weights_alpha[6][0]    \n",
            "                                                                 bidirectional_8[0][0]            \n",
            "                                                                 attention_weights_alpha[7][0]    \n",
            "                                                                 bidirectional_8[0][0]            \n",
            "                                                                 attention_weights_alpha[8][0]    \n",
            "                                                                 bidirectional_8[0][0]            \n",
            "                                                                 attention_weights_alpha[9][0]    \n",
            "                                                                 bidirectional_8[0][0]            \n",
            "__________________________________________________________________________________________________\n",
            "c0 (InputLayer)                 (None, 64)           0                                            \n",
            "__________________________________________________________________________________________________\n",
            "lstm_13 (LSTM)                  [(None, 64), (None,  33024       dot_5[0][0]                      \n",
            "                                                                 s0[0][0]                         \n",
            "                                                                 c0[0][0]                         \n",
            "                                                                 dot_5[1][0]                      \n",
            "                                                                 lstm_13[0][0]                    \n",
            "                                                                 lstm_13[0][2]                    \n",
            "                                                                 dot_5[2][0]                      \n",
            "                                                                 lstm_13[1][0]                    \n",
            "                                                                 lstm_13[1][2]                    \n",
            "                                                                 dot_5[3][0]                      \n",
            "                                                                 lstm_13[2][0]                    \n",
            "                                                                 lstm_13[2][2]                    \n",
            "                                                                 dot_5[4][0]                      \n",
            "                                                                 lstm_13[3][0]                    \n",
            "                                                                 lstm_13[3][2]                    \n",
            "                                                                 dot_5[5][0]                      \n",
            "                                                                 lstm_13[4][0]                    \n",
            "                                                                 lstm_13[4][2]                    \n",
            "                                                                 dot_5[6][0]                      \n",
            "                                                                 lstm_13[5][0]                    \n",
            "                                                                 lstm_13[5][2]                    \n",
            "                                                                 dot_5[7][0]                      \n",
            "                                                                 lstm_13[6][0]                    \n",
            "                                                                 lstm_13[6][2]                    \n",
            "                                                                 dot_5[8][0]                      \n",
            "                                                                 lstm_13[7][0]                    \n",
            "                                                                 lstm_13[7][2]                    \n",
            "                                                                 dot_5[9][0]                      \n",
            "                                                                 lstm_13[8][0]                    \n",
            "                                                                 lstm_13[8][2]                    \n",
            "__________________________________________________________________________________________________\n",
            "dense_16 (Dense)                (None, 11)           715         lstm_13[0][0]                    \n",
            "                                                                 lstm_13[1][0]                    \n",
            "                                                                 lstm_13[2][0]                    \n",
            "                                                                 lstm_13[3][0]                    \n",
            "                                                                 lstm_13[4][0]                    \n",
            "                                                                 lstm_13[5][0]                    \n",
            "                                                                 lstm_13[6][0]                    \n",
            "                                                                 lstm_13[7][0]                    \n",
            "                                                                 lstm_13[8][0]                    \n",
            "                                                                 lstm_13[9][0]                    \n",
            "==================================================================================================\n",
            "Total params: 52,960\n",
            "Trainable params: 52,960\n",
            "Non-trainable params: 0\n",
            "__________________________________________________________________________________________________\n"
          ],
          "name": "stdout"
        }
      ]
    },
    {
      "metadata": {
        "id": "TJG7xKp6aUeJ",
        "colab_type": "code",
        "colab": {}
      },
      "cell_type": "code",
      "source": [
        "from keras.optimizers import Adam\n",
        "opt = Adam(lr = 0.005, beta_1 = 0.9, beta_2 = 0.999, decay = 0.01)\n",
        "model.compile(optimizer = opt, loss = 'categorical_crossentropy', metrics = ['accuracy'])"
      ],
      "execution_count": 0,
      "outputs": []
    },
    {
      "metadata": {
        "id": "l3Zo43RCi3Zr",
        "colab_type": "code",
        "colab": {}
      },
      "cell_type": "code",
      "source": [
        "s0 = np.zeros((m, n_s))\n",
        "c0 = np.zeros((m, n_s))\n",
        "target = list(Yoh.swapaxes(0,1))"
      ],
      "execution_count": 0,
      "outputs": []
    },
    {
      "metadata": {
        "id": "7cw6sqVdjNCk",
        "colab_type": "code",
        "colab": {
          "base_uri": "https://localhost:8080/",
          "height": 3454
        },
        "outputId": "c69df74b-5e8d-448b-d7a4-59d816ece244"
      },
      "cell_type": "code",
      "source": [
        "model.fit([Xoh, s0, c0], target, epochs = 100, batch_size = 128)"
      ],
      "execution_count": 168,
      "outputs": [
        {
          "output_type": "stream",
          "text": [
            "Epoch 1/100\n",
            "10000/10000 [==============================] - 28s 3ms/step - loss: 18.7905 - dense_16_loss: 2.6185 - dense_16_acc: 0.2969 - dense_16_acc_1: 0.5880 - dense_16_acc_2: 0.2545 - dense_16_acc_3: 0.0549 - dense_16_acc_4: 0.9238 - dense_16_acc_5: 0.2063 - dense_16_acc_6: 0.0144 - dense_16_acc_7: 0.9213 - dense_16_acc_8: 0.2045 - dense_16_acc_9: 0.0934\n",
            "Epoch 2/100\n",
            "10000/10000 [==============================] - 15s 2ms/step - loss: 10.4376 - dense_16_loss: 2.2660 - dense_16_acc: 0.9406 - dense_16_acc_1: 0.9507 - dense_16_acc_2: 0.4632 - dense_16_acc_3: 0.1498 - dense_16_acc_4: 1.0000 - dense_16_acc_5: 0.7929 - dense_16_acc_6: 0.2010 - dense_16_acc_7: 1.0000 - dense_16_acc_8: 0.4459 - dense_16_acc_9: 0.1457\n",
            "Epoch 3/100\n",
            "10000/10000 [==============================] - 15s 2ms/step - loss: 8.2700 - dense_16_loss: 2.0664 - dense_16_acc: 0.9730 - dense_16_acc_1: 0.9730 - dense_16_acc_2: 0.6186 - dense_16_acc_3: 0.2555 - dense_16_acc_4: 1.0000 - dense_16_acc_5: 0.9065 - dense_16_acc_6: 0.4376 - dense_16_acc_7: 0.9998 - dense_16_acc_8: 0.5691 - dense_16_acc_9: 0.2369\n",
            "Epoch 4/100\n",
            "10000/10000 [==============================] - 15s 2ms/step - loss: 6.5272 - dense_16_loss: 1.7811 - dense_16_acc: 0.9776 - dense_16_acc_1: 0.9786 - dense_16_acc_2: 0.7712 - dense_16_acc_3: 0.4792 - dense_16_acc_4: 1.0000 - dense_16_acc_5: 0.9544 - dense_16_acc_6: 0.6446 - dense_16_acc_7: 0.9999 - dense_16_acc_8: 0.6695 - dense_16_acc_9: 0.3496\n",
            "Epoch 5/100\n",
            "10000/10000 [==============================] - 15s 2ms/step - loss: 4.8066 - dense_16_loss: 1.3556 - dense_16_acc: 0.9783 - dense_16_acc_1: 0.9815 - dense_16_acc_2: 0.8593 - dense_16_acc_3: 0.7252 - dense_16_acc_4: 1.0000 - dense_16_acc_5: 0.9702 - dense_16_acc_6: 0.7744 - dense_16_acc_7: 0.9998 - dense_16_acc_8: 0.7295 - dense_16_acc_9: 0.5359\n",
            "Epoch 6/100\n",
            "10000/10000 [==============================] - 15s 2ms/step - loss: 3.4379 - dense_16_loss: 0.8753 - dense_16_acc: 0.9786 - dense_16_acc_1: 0.9841 - dense_16_acc_2: 0.8934 - dense_16_acc_3: 0.8698 - dense_16_acc_4: 1.0000 - dense_16_acc_5: 0.9735 - dense_16_acc_6: 0.8307 - dense_16_acc_7: 1.0000 - dense_16_acc_8: 0.7734 - dense_16_acc_9: 0.7265\n",
            "Epoch 7/100\n",
            "10000/10000 [==============================] - 15s 2ms/step - loss: 2.5188 - dense_16_loss: 0.5500 - dense_16_acc: 0.9801 - dense_16_acc_1: 0.9878 - dense_16_acc_2: 0.9272 - dense_16_acc_3: 0.9408 - dense_16_acc_4: 1.0000 - dense_16_acc_5: 0.9747 - dense_16_acc_6: 0.8639 - dense_16_acc_7: 1.0000 - dense_16_acc_8: 0.8163 - dense_16_acc_9: 0.8398\n",
            "Epoch 8/100\n",
            "10000/10000 [==============================] - 15s 2ms/step - loss: 1.9720 - dense_16_loss: 0.3891 - dense_16_acc: 0.9806 - dense_16_acc_1: 0.9894 - dense_16_acc_2: 0.9557 - dense_16_acc_3: 0.9736 - dense_16_acc_4: 1.0000 - dense_16_acc_5: 0.9742 - dense_16_acc_6: 0.8813 - dense_16_acc_7: 1.0000 - dense_16_acc_8: 0.8468 - dense_16_acc_9: 0.8908\n",
            "Epoch 9/100\n",
            "10000/10000 [==============================] - 15s 2ms/step - loss: 1.6197 - dense_16_loss: 0.3016 - dense_16_acc: 0.9832 - dense_16_acc_1: 0.9918 - dense_16_acc_2: 0.9743 - dense_16_acc_3: 0.9862 - dense_16_acc_4: 1.0000 - dense_16_acc_5: 0.9761 - dense_16_acc_6: 0.8938 - dense_16_acc_7: 1.0000 - dense_16_acc_8: 0.8650 - dense_16_acc_9: 0.9188\n",
            "Epoch 10/100\n",
            "10000/10000 [==============================] - 15s 2ms/step - loss: 1.3295 - dense_16_loss: 0.2372 - dense_16_acc: 0.9844 - dense_16_acc_1: 0.9934 - dense_16_acc_2: 0.9825 - dense_16_acc_3: 0.9970 - dense_16_acc_4: 1.0000 - dense_16_acc_5: 0.9759 - dense_16_acc_6: 0.9067 - dense_16_acc_7: 1.0000 - dense_16_acc_8: 0.8944 - dense_16_acc_9: 0.9388\n",
            "Epoch 11/100\n",
            "10000/10000 [==============================] - 15s 2ms/step - loss: 1.1099 - dense_16_loss: 0.1896 - dense_16_acc: 0.9874 - dense_16_acc_1: 0.9958 - dense_16_acc_2: 0.9895 - dense_16_acc_3: 0.9991 - dense_16_acc_4: 1.0000 - dense_16_acc_5: 0.9771 - dense_16_acc_6: 0.9179 - dense_16_acc_7: 1.0000 - dense_16_acc_8: 0.9159 - dense_16_acc_9: 0.9534\n",
            "Epoch 12/100\n",
            "10000/10000 [==============================] - 15s 2ms/step - loss: 0.9289 - dense_16_loss: 0.1511 - dense_16_acc: 0.9905 - dense_16_acc_1: 0.9967 - dense_16_acc_2: 0.9920 - dense_16_acc_3: 0.9996 - dense_16_acc_4: 1.0000 - dense_16_acc_5: 0.9779 - dense_16_acc_6: 0.9267 - dense_16_acc_7: 1.0000 - dense_16_acc_8: 0.9388 - dense_16_acc_9: 0.9703\n",
            "Epoch 13/100\n",
            "10000/10000 [==============================] - 15s 2ms/step - loss: 0.7894 - dense_16_loss: 0.1215 - dense_16_acc: 0.9921 - dense_16_acc_1: 0.9973 - dense_16_acc_2: 0.9949 - dense_16_acc_3: 1.0000 - dense_16_acc_4: 1.0000 - dense_16_acc_5: 0.9795 - dense_16_acc_6: 0.9335 - dense_16_acc_7: 1.0000 - dense_16_acc_8: 0.9519 - dense_16_acc_9: 0.9788\n",
            "Epoch 14/100\n",
            "10000/10000 [==============================] - 15s 2ms/step - loss: 0.6803 - dense_16_loss: 0.1004 - dense_16_acc: 0.9932 - dense_16_acc_1: 0.9981 - dense_16_acc_2: 0.9966 - dense_16_acc_3: 1.0000 - dense_16_acc_4: 1.0000 - dense_16_acc_5: 0.9802 - dense_16_acc_6: 0.9382 - dense_16_acc_7: 1.0000 - dense_16_acc_8: 0.9634 - dense_16_acc_9: 0.9855\n",
            "Epoch 15/100\n",
            "10000/10000 [==============================] - 15s 2ms/step - loss: 0.5951 - dense_16_loss: 0.0849 - dense_16_acc: 0.9951 - dense_16_acc_1: 0.9988 - dense_16_acc_2: 0.9972 - dense_16_acc_3: 1.0000 - dense_16_acc_4: 1.0000 - dense_16_acc_5: 0.9814 - dense_16_acc_6: 0.9441 - dense_16_acc_7: 1.0000 - dense_16_acc_8: 0.9714 - dense_16_acc_9: 0.9898\n",
            "Epoch 16/100\n",
            "10000/10000 [==============================] - 15s 2ms/step - loss: 0.5265 - dense_16_loss: 0.0730 - dense_16_acc: 0.9962 - dense_16_acc_1: 0.9996 - dense_16_acc_2: 0.9980 - dense_16_acc_3: 1.0000 - dense_16_acc_4: 1.0000 - dense_16_acc_5: 0.9818 - dense_16_acc_6: 0.9478 - dense_16_acc_7: 1.0000 - dense_16_acc_8: 0.9784 - dense_16_acc_9: 0.9920\n",
            "Epoch 17/100\n",
            "10000/10000 [==============================] - 15s 2ms/step - loss: 0.4708 - dense_16_loss: 0.0630 - dense_16_acc: 0.9968 - dense_16_acc_1: 0.9995 - dense_16_acc_2: 0.9985 - dense_16_acc_3: 1.0000 - dense_16_acc_4: 1.0000 - dense_16_acc_5: 0.9827 - dense_16_acc_6: 0.9529 - dense_16_acc_7: 1.0000 - dense_16_acc_8: 0.9833 - dense_16_acc_9: 0.9936\n",
            "Epoch 18/100\n",
            "10000/10000 [==============================] - 15s 2ms/step - loss: 0.4220 - dense_16_loss: 0.0542 - dense_16_acc: 0.9975 - dense_16_acc_1: 0.9999 - dense_16_acc_2: 0.9992 - dense_16_acc_3: 1.0000 - dense_16_acc_4: 1.0000 - dense_16_acc_5: 0.9830 - dense_16_acc_6: 0.9571 - dense_16_acc_7: 1.0000 - dense_16_acc_8: 0.9873 - dense_16_acc_9: 0.9950\n",
            "Epoch 19/100\n",
            "10000/10000 [==============================] - 15s 2ms/step - loss: 0.3856 - dense_16_loss: 0.0479 - dense_16_acc: 0.9977 - dense_16_acc_1: 0.9999 - dense_16_acc_2: 0.9992 - dense_16_acc_3: 1.0000 - dense_16_acc_4: 1.0000 - dense_16_acc_5: 0.9830 - dense_16_acc_6: 0.9585 - dense_16_acc_7: 1.0000 - dense_16_acc_8: 0.9902 - dense_16_acc_9: 0.9959\n",
            "Epoch 20/100\n",
            "10000/10000 [==============================] - 15s 2ms/step - loss: 0.3531 - dense_16_loss: 0.0429 - dense_16_acc: 0.9985 - dense_16_acc_1: 0.9999 - dense_16_acc_2: 0.9994 - dense_16_acc_3: 1.0000 - dense_16_acc_4: 1.0000 - dense_16_acc_5: 0.9844 - dense_16_acc_6: 0.9616 - dense_16_acc_7: 1.0000 - dense_16_acc_8: 0.9921 - dense_16_acc_9: 0.9969\n",
            "Epoch 21/100\n",
            "10000/10000 [==============================] - 15s 2ms/step - loss: 0.3230 - dense_16_loss: 0.0381 - dense_16_acc: 0.9988 - dense_16_acc_1: 1.0000 - dense_16_acc_2: 0.9995 - dense_16_acc_3: 1.0000 - dense_16_acc_4: 1.0000 - dense_16_acc_5: 0.9843 - dense_16_acc_6: 0.9619 - dense_16_acc_7: 1.0000 - dense_16_acc_8: 0.9939 - dense_16_acc_9: 0.9972\n",
            "Epoch 22/100\n",
            "10000/10000 [==============================] - 15s 2ms/step - loss: 0.2985 - dense_16_loss: 0.0338 - dense_16_acc: 0.9988 - dense_16_acc_1: 1.0000 - dense_16_acc_2: 0.9996 - dense_16_acc_3: 1.0000 - dense_16_acc_4: 1.0000 - dense_16_acc_5: 0.9856 - dense_16_acc_6: 0.9662 - dense_16_acc_7: 1.0000 - dense_16_acc_8: 0.9960 - dense_16_acc_9: 0.9981\n",
            "Epoch 23/100\n",
            "10000/10000 [==============================] - 15s 2ms/step - loss: 0.2799 - dense_16_loss: 0.0310 - dense_16_acc: 0.9994 - dense_16_acc_1: 1.0000 - dense_16_acc_2: 0.9997 - dense_16_acc_3: 1.0000 - dense_16_acc_4: 1.0000 - dense_16_acc_5: 0.9857 - dense_16_acc_6: 0.9673 - dense_16_acc_7: 1.0000 - dense_16_acc_8: 0.9960 - dense_16_acc_9: 0.9983\n",
            "Epoch 24/100\n",
            "10000/10000 [==============================] - 15s 2ms/step - loss: 0.2605 - dense_16_loss: 0.0281 - dense_16_acc: 0.9993 - dense_16_acc_1: 1.0000 - dense_16_acc_2: 0.9996 - dense_16_acc_3: 1.0000 - dense_16_acc_4: 1.0000 - dense_16_acc_5: 0.9861 - dense_16_acc_6: 0.9695 - dense_16_acc_7: 1.0000 - dense_16_acc_8: 0.9973 - dense_16_acc_9: 0.9982\n",
            "Epoch 25/100\n",
            "10000/10000 [==============================] - 15s 2ms/step - loss: 0.2441 - dense_16_loss: 0.0255 - dense_16_acc: 0.9993 - dense_16_acc_1: 1.0000 - dense_16_acc_2: 0.9996 - dense_16_acc_3: 1.0000 - dense_16_acc_4: 1.0000 - dense_16_acc_5: 0.9871 - dense_16_acc_6: 0.9727 - dense_16_acc_7: 1.0000 - dense_16_acc_8: 0.9981 - dense_16_acc_9: 0.9987\n",
            "Epoch 26/100\n",
            "10000/10000 [==============================] - 15s 2ms/step - loss: 0.2306 - dense_16_loss: 0.0237 - dense_16_acc: 0.9995 - dense_16_acc_1: 1.0000 - dense_16_acc_2: 0.9997 - dense_16_acc_3: 1.0000 - dense_16_acc_4: 1.0000 - dense_16_acc_5: 0.9869 - dense_16_acc_6: 0.9743 - dense_16_acc_7: 1.0000 - dense_16_acc_8: 0.9979 - dense_16_acc_9: 0.9990\n",
            "Epoch 27/100\n",
            "10000/10000 [==============================] - 15s 2ms/step - loss: 0.2176 - dense_16_loss: 0.0216 - dense_16_acc: 0.9994 - dense_16_acc_1: 1.0000 - dense_16_acc_2: 0.9998 - dense_16_acc_3: 1.0000 - dense_16_acc_4: 1.0000 - dense_16_acc_5: 0.9868 - dense_16_acc_6: 0.9743 - dense_16_acc_7: 1.0000 - dense_16_acc_8: 0.9984 - dense_16_acc_9: 0.9990\n",
            "Epoch 28/100\n",
            "10000/10000 [==============================] - 15s 2ms/step - loss: 0.2068 - dense_16_loss: 0.0200 - dense_16_acc: 0.9995 - dense_16_acc_1: 1.0000 - dense_16_acc_2: 0.9998 - dense_16_acc_3: 1.0000 - dense_16_acc_4: 1.0000 - dense_16_acc_5: 0.9864 - dense_16_acc_6: 0.9759 - dense_16_acc_7: 1.0000 - dense_16_acc_8: 0.9991 - dense_16_acc_9: 0.9994\n",
            "Epoch 29/100\n",
            "10000/10000 [==============================] - 15s 2ms/step - loss: 0.1960 - dense_16_loss: 0.0187 - dense_16_acc: 0.9995 - dense_16_acc_1: 1.0000 - dense_16_acc_2: 0.9997 - dense_16_acc_3: 1.0000 - dense_16_acc_4: 1.0000 - dense_16_acc_5: 0.9876 - dense_16_acc_6: 0.9780 - dense_16_acc_7: 1.0000 - dense_16_acc_8: 0.9991 - dense_16_acc_9: 0.9994\n",
            "Epoch 30/100\n",
            "10000/10000 [==============================] - 15s 2ms/step - loss: 0.1865 - dense_16_loss: 0.0173 - dense_16_acc: 0.9996 - dense_16_acc_1: 1.0000 - dense_16_acc_2: 0.9998 - dense_16_acc_3: 1.0000 - dense_16_acc_4: 1.0000 - dense_16_acc_5: 0.9879 - dense_16_acc_6: 0.9783 - dense_16_acc_7: 1.0000 - dense_16_acc_8: 0.9994 - dense_16_acc_9: 0.9996\n",
            "Epoch 31/100\n",
            "10000/10000 [==============================] - 15s 2ms/step - loss: 0.1774 - dense_16_loss: 0.0159 - dense_16_acc: 0.9997 - dense_16_acc_1: 1.0000 - dense_16_acc_2: 0.9998 - dense_16_acc_3: 1.0000 - dense_16_acc_4: 1.0000 - dense_16_acc_5: 0.9871 - dense_16_acc_6: 0.9801 - dense_16_acc_7: 1.0000 - dense_16_acc_8: 0.9994 - dense_16_acc_9: 0.9998\n",
            "Epoch 32/100\n",
            "10000/10000 [==============================] - 15s 2ms/step - loss: 0.1692 - dense_16_loss: 0.0149 - dense_16_acc: 0.9998 - dense_16_acc_1: 1.0000 - dense_16_acc_2: 0.9999 - dense_16_acc_3: 1.0000 - dense_16_acc_4: 1.0000 - dense_16_acc_5: 0.9886 - dense_16_acc_6: 0.9811 - dense_16_acc_7: 1.0000 - dense_16_acc_8: 0.9997 - dense_16_acc_9: 0.9998\n",
            "Epoch 33/100\n",
            "10000/10000 [==============================] - 15s 2ms/step - loss: 0.1622 - dense_16_loss: 0.0142 - dense_16_acc: 0.9997 - dense_16_acc_1: 1.0000 - dense_16_acc_2: 0.9998 - dense_16_acc_3: 1.0000 - dense_16_acc_4: 1.0000 - dense_16_acc_5: 0.9885 - dense_16_acc_6: 0.9820 - dense_16_acc_7: 1.0000 - dense_16_acc_8: 0.9998 - dense_16_acc_9: 0.9998\n",
            "Epoch 34/100\n",
            "10000/10000 [==============================] - 15s 2ms/step - loss: 0.1561 - dense_16_loss: 0.0130 - dense_16_acc: 0.9997 - dense_16_acc_1: 1.0000 - dense_16_acc_2: 0.9999 - dense_16_acc_3: 1.0000 - dense_16_acc_4: 1.0000 - dense_16_acc_5: 0.9884 - dense_16_acc_6: 0.9827 - dense_16_acc_7: 1.0000 - dense_16_acc_8: 0.9998 - dense_16_acc_9: 1.0000\n",
            "Epoch 35/100\n",
            "10000/10000 [==============================] - 15s 2ms/step - loss: 0.1510 - dense_16_loss: 0.0124 - dense_16_acc: 0.9998 - dense_16_acc_1: 1.0000 - dense_16_acc_2: 0.9999 - dense_16_acc_3: 1.0000 - dense_16_acc_4: 1.0000 - dense_16_acc_5: 0.9892 - dense_16_acc_6: 0.9841 - dense_16_acc_7: 1.0000 - dense_16_acc_8: 0.9997 - dense_16_acc_9: 1.0000\n",
            "Epoch 36/100\n",
            "10000/10000 [==============================] - 15s 2ms/step - loss: 0.1431 - dense_16_loss: 0.0115 - dense_16_acc: 0.9999 - dense_16_acc_1: 1.0000 - dense_16_acc_2: 0.9999 - dense_16_acc_3: 1.0000 - dense_16_acc_4: 1.0000 - dense_16_acc_5: 0.9895 - dense_16_acc_6: 0.9850 - dense_16_acc_7: 1.0000 - dense_16_acc_8: 0.9999 - dense_16_acc_9: 1.0000\n",
            "Epoch 37/100\n",
            "10000/10000 [==============================] - 15s 2ms/step - loss: 0.1383 - dense_16_loss: 0.0110 - dense_16_acc: 0.9999 - dense_16_acc_1: 1.0000 - dense_16_acc_2: 0.9998 - dense_16_acc_3: 1.0000 - dense_16_acc_4: 1.0000 - dense_16_acc_5: 0.9891 - dense_16_acc_6: 0.9856 - dense_16_acc_7: 1.0000 - dense_16_acc_8: 1.0000 - dense_16_acc_9: 0.9999\n",
            "Epoch 38/100\n",
            "10000/10000 [==============================] - 15s 2ms/step - loss: 0.1328 - dense_16_loss: 0.0103 - dense_16_acc: 0.9997 - dense_16_acc_1: 1.0000 - dense_16_acc_2: 0.9999 - dense_16_acc_3: 1.0000 - dense_16_acc_4: 1.0000 - dense_16_acc_5: 0.9893 - dense_16_acc_6: 0.9862 - dense_16_acc_7: 1.0000 - dense_16_acc_8: 1.0000 - dense_16_acc_9: 1.0000\n",
            "Epoch 39/100\n",
            "10000/10000 [==============================] - 15s 2ms/step - loss: 0.1278 - dense_16_loss: 0.0098 - dense_16_acc: 0.9999 - dense_16_acc_1: 1.0000 - dense_16_acc_2: 0.9999 - dense_16_acc_3: 1.0000 - dense_16_acc_4: 1.0000 - dense_16_acc_5: 0.9901 - dense_16_acc_6: 0.9873 - dense_16_acc_7: 1.0000 - dense_16_acc_8: 0.9998 - dense_16_acc_9: 0.9999\n",
            "Epoch 40/100\n",
            "10000/10000 [==============================] - 15s 2ms/step - loss: 0.1233 - dense_16_loss: 0.0092 - dense_16_acc: 0.9999 - dense_16_acc_1: 1.0000 - dense_16_acc_2: 1.0000 - dense_16_acc_3: 1.0000 - dense_16_acc_4: 1.0000 - dense_16_acc_5: 0.9897 - dense_16_acc_6: 0.9877 - dense_16_acc_7: 1.0000 - dense_16_acc_8: 0.9999 - dense_16_acc_9: 1.0000\n",
            "Epoch 41/100\n",
            "10000/10000 [==============================] - 15s 2ms/step - loss: 0.1196 - dense_16_loss: 0.0088 - dense_16_acc: 0.9999 - dense_16_acc_1: 1.0000 - dense_16_acc_2: 1.0000 - dense_16_acc_3: 1.0000 - dense_16_acc_4: 1.0000 - dense_16_acc_5: 0.9903 - dense_16_acc_6: 0.9879 - dense_16_acc_7: 1.0000 - dense_16_acc_8: 1.0000 - dense_16_acc_9: 1.0000\n",
            "Epoch 42/100\n",
            "10000/10000 [==============================] - 15s 2ms/step - loss: 0.1154 - dense_16_loss: 0.0084 - dense_16_acc: 0.9999 - dense_16_acc_1: 1.0000 - dense_16_acc_2: 1.0000 - dense_16_acc_3: 1.0000 - dense_16_acc_4: 1.0000 - dense_16_acc_5: 0.9898 - dense_16_acc_6: 0.9890 - dense_16_acc_7: 1.0000 - dense_16_acc_8: 1.0000 - dense_16_acc_9: 1.0000\n",
            "Epoch 43/100\n",
            "10000/10000 [==============================] - 15s 2ms/step - loss: 0.1110 - dense_16_loss: 0.0079 - dense_16_acc: 0.9999 - dense_16_acc_1: 1.0000 - dense_16_acc_2: 1.0000 - dense_16_acc_3: 1.0000 - dense_16_acc_4: 1.0000 - dense_16_acc_5: 0.9902 - dense_16_acc_6: 0.9898 - dense_16_acc_7: 1.0000 - dense_16_acc_8: 1.0000 - dense_16_acc_9: 1.0000\n",
            "Epoch 44/100\n",
            "10000/10000 [==============================] - 15s 2ms/step - loss: 0.1089 - dense_16_loss: 0.0075 - dense_16_acc: 1.0000 - dense_16_acc_1: 1.0000 - dense_16_acc_2: 1.0000 - dense_16_acc_3: 1.0000 - dense_16_acc_4: 1.0000 - dense_16_acc_5: 0.9895 - dense_16_acc_6: 0.9891 - dense_16_acc_7: 1.0000 - dense_16_acc_8: 1.0000 - dense_16_acc_9: 1.0000\n",
            "Epoch 45/100\n",
            "10000/10000 [==============================] - 15s 2ms/step - loss: 0.1041 - dense_16_loss: 0.0073 - dense_16_acc: 0.9999 - dense_16_acc_1: 1.0000 - dense_16_acc_2: 1.0000 - dense_16_acc_3: 1.0000 - dense_16_acc_4: 1.0000 - dense_16_acc_5: 0.9905 - dense_16_acc_6: 0.9901 - dense_16_acc_7: 1.0000 - dense_16_acc_8: 1.0000 - dense_16_acc_9: 1.0000\n",
            "Epoch 46/100\n",
            "10000/10000 [==============================] - 15s 2ms/step - loss: 0.1011 - dense_16_loss: 0.0071 - dense_16_acc: 0.9999 - dense_16_acc_1: 1.0000 - dense_16_acc_2: 1.0000 - dense_16_acc_3: 1.0000 - dense_16_acc_4: 1.0000 - dense_16_acc_5: 0.9909 - dense_16_acc_6: 0.9902 - dense_16_acc_7: 1.0000 - dense_16_acc_8: 1.0000 - dense_16_acc_9: 1.0000\n",
            "Epoch 47/100\n",
            "10000/10000 [==============================] - 15s 2ms/step - loss: 0.0982 - dense_16_loss: 0.0068 - dense_16_acc: 1.0000 - dense_16_acc_1: 1.0000 - dense_16_acc_2: 1.0000 - dense_16_acc_3: 1.0000 - dense_16_acc_4: 1.0000 - dense_16_acc_5: 0.9903 - dense_16_acc_6: 0.9909 - dense_16_acc_7: 1.0000 - dense_16_acc_8: 0.9999 - dense_16_acc_9: 1.0000\n",
            "Epoch 48/100\n",
            "10000/10000 [==============================] - 15s 2ms/step - loss: 0.0954 - dense_16_loss: 0.0065 - dense_16_acc: 1.0000 - dense_16_acc_1: 1.0000 - dense_16_acc_2: 1.0000 - dense_16_acc_3: 1.0000 - dense_16_acc_4: 1.0000 - dense_16_acc_5: 0.9909 - dense_16_acc_6: 0.9917 - dense_16_acc_7: 1.0000 - dense_16_acc_8: 1.0000 - dense_16_acc_9: 1.0000\n",
            "Epoch 49/100\n",
            "10000/10000 [==============================] - 15s 2ms/step - loss: 0.0919 - dense_16_loss: 0.0061 - dense_16_acc: 1.0000 - dense_16_acc_1: 1.0000 - dense_16_acc_2: 1.0000 - dense_16_acc_3: 1.0000 - dense_16_acc_4: 1.0000 - dense_16_acc_5: 0.9910 - dense_16_acc_6: 0.9921 - dense_16_acc_7: 1.0000 - dense_16_acc_8: 1.0000 - dense_16_acc_9: 1.0000\n",
            "Epoch 50/100\n",
            "10000/10000 [==============================] - 15s 2ms/step - loss: 0.0893 - dense_16_loss: 0.0059 - dense_16_acc: 1.0000 - dense_16_acc_1: 1.0000 - dense_16_acc_2: 1.0000 - dense_16_acc_3: 1.0000 - dense_16_acc_4: 1.0000 - dense_16_acc_5: 0.9913 - dense_16_acc_6: 0.9922 - dense_16_acc_7: 1.0000 - dense_16_acc_8: 1.0000 - dense_16_acc_9: 1.0000\n",
            "Epoch 51/100\n",
            "10000/10000 [==============================] - 15s 2ms/step - loss: 0.0861 - dense_16_loss: 0.0056 - dense_16_acc: 1.0000 - dense_16_acc_1: 1.0000 - dense_16_acc_2: 1.0000 - dense_16_acc_3: 1.0000 - dense_16_acc_4: 1.0000 - dense_16_acc_5: 0.9912 - dense_16_acc_6: 0.9930 - dense_16_acc_7: 1.0000 - dense_16_acc_8: 1.0000 - dense_16_acc_9: 1.0000\n",
            "Epoch 52/100\n",
            "10000/10000 [==============================] - 15s 2ms/step - loss: 0.0841 - dense_16_loss: 0.0055 - dense_16_acc: 1.0000 - dense_16_acc_1: 1.0000 - dense_16_acc_2: 1.0000 - dense_16_acc_3: 1.0000 - dense_16_acc_4: 1.0000 - dense_16_acc_5: 0.9914 - dense_16_acc_6: 0.9934 - dense_16_acc_7: 1.0000 - dense_16_acc_8: 1.0000 - dense_16_acc_9: 1.0000\n",
            "Epoch 53/100\n",
            "10000/10000 [==============================] - 15s 2ms/step - loss: 0.0813 - dense_16_loss: 0.0053 - dense_16_acc: 1.0000 - dense_16_acc_1: 1.0000 - dense_16_acc_2: 1.0000 - dense_16_acc_3: 1.0000 - dense_16_acc_4: 1.0000 - dense_16_acc_5: 0.9912 - dense_16_acc_6: 0.9939 - dense_16_acc_7: 1.0000 - dense_16_acc_8: 1.0000 - dense_16_acc_9: 1.0000\n",
            "Epoch 54/100\n",
            "10000/10000 [==============================] - 15s 2ms/step - loss: 0.0788 - dense_16_loss: 0.0050 - dense_16_acc: 1.0000 - dense_16_acc_1: 1.0000 - dense_16_acc_2: 1.0000 - dense_16_acc_3: 1.0000 - dense_16_acc_4: 1.0000 - dense_16_acc_5: 0.9919 - dense_16_acc_6: 0.9945 - dense_16_acc_7: 1.0000 - dense_16_acc_8: 1.0000 - dense_16_acc_9: 1.0000\n",
            "Epoch 55/100\n",
            "10000/10000 [==============================] - 15s 2ms/step - loss: 0.0770 - dense_16_loss: 0.0050 - dense_16_acc: 1.0000 - dense_16_acc_1: 1.0000 - dense_16_acc_2: 1.0000 - dense_16_acc_3: 1.0000 - dense_16_acc_4: 1.0000 - dense_16_acc_5: 0.9910 - dense_16_acc_6: 0.9944 - dense_16_acc_7: 1.0000 - dense_16_acc_8: 1.0000 - dense_16_acc_9: 1.0000\n",
            "Epoch 56/100\n",
            "10000/10000 [==============================] - 15s 2ms/step - loss: 0.0745 - dense_16_loss: 0.0047 - dense_16_acc: 1.0000 - dense_16_acc_1: 1.0000 - dense_16_acc_2: 1.0000 - dense_16_acc_3: 1.0000 - dense_16_acc_4: 1.0000 - dense_16_acc_5: 0.9919 - dense_16_acc_6: 0.9944 - dense_16_acc_7: 1.0000 - dense_16_acc_8: 1.0000 - dense_16_acc_9: 1.0000\n",
            "Epoch 57/100\n",
            "10000/10000 [==============================] - 15s 2ms/step - loss: 0.0732 - dense_16_loss: 0.0046 - dense_16_acc: 1.0000 - dense_16_acc_1: 1.0000 - dense_16_acc_2: 1.0000 - dense_16_acc_3: 1.0000 - dense_16_acc_4: 1.0000 - dense_16_acc_5: 0.9918 - dense_16_acc_6: 0.9947 - dense_16_acc_7: 1.0000 - dense_16_acc_8: 1.0000 - dense_16_acc_9: 1.0000\n",
            "Epoch 58/100\n",
            "10000/10000 [==============================] - 15s 2ms/step - loss: 0.0703 - dense_16_loss: 0.0044 - dense_16_acc: 1.0000 - dense_16_acc_1: 1.0000 - dense_16_acc_2: 1.0000 - dense_16_acc_3: 1.0000 - dense_16_acc_4: 1.0000 - dense_16_acc_5: 0.9924 - dense_16_acc_6: 0.9954 - dense_16_acc_7: 1.0000 - dense_16_acc_8: 1.0000 - dense_16_acc_9: 1.0000\n",
            "Epoch 59/100\n",
            "10000/10000 [==============================] - 15s 2ms/step - loss: 0.0684 - dense_16_loss: 0.0042 - dense_16_acc: 1.0000 - dense_16_acc_1: 1.0000 - dense_16_acc_2: 1.0000 - dense_16_acc_3: 1.0000 - dense_16_acc_4: 1.0000 - dense_16_acc_5: 0.9921 - dense_16_acc_6: 0.9956 - dense_16_acc_7: 1.0000 - dense_16_acc_8: 1.0000 - dense_16_acc_9: 1.0000\n",
            "Epoch 60/100\n",
            "10000/10000 [==============================] - 15s 2ms/step - loss: 0.0664 - dense_16_loss: 0.0042 - dense_16_acc: 1.0000 - dense_16_acc_1: 1.0000 - dense_16_acc_2: 1.0000 - dense_16_acc_3: 1.0000 - dense_16_acc_4: 1.0000 - dense_16_acc_5: 0.9924 - dense_16_acc_6: 0.9959 - dense_16_acc_7: 1.0000 - dense_16_acc_8: 1.0000 - dense_16_acc_9: 1.0000\n",
            "Epoch 61/100\n",
            "10000/10000 [==============================] - 15s 2ms/step - loss: 0.0644 - dense_16_loss: 0.0039 - dense_16_acc: 1.0000 - dense_16_acc_1: 1.0000 - dense_16_acc_2: 1.0000 - dense_16_acc_3: 1.0000 - dense_16_acc_4: 1.0000 - dense_16_acc_5: 0.9926 - dense_16_acc_6: 0.9960 - dense_16_acc_7: 1.0000 - dense_16_acc_8: 1.0000 - dense_16_acc_9: 1.0000\n",
            "Epoch 62/100\n",
            "10000/10000 [==============================] - 15s 2ms/step - loss: 0.0634 - dense_16_loss: 0.0040 - dense_16_acc: 1.0000 - dense_16_acc_1: 1.0000 - dense_16_acc_2: 1.0000 - dense_16_acc_3: 1.0000 - dense_16_acc_4: 1.0000 - dense_16_acc_5: 0.9931 - dense_16_acc_6: 0.9963 - dense_16_acc_7: 1.0000 - dense_16_acc_8: 1.0000 - dense_16_acc_9: 1.0000\n",
            "Epoch 63/100\n",
            "10000/10000 [==============================] - 15s 2ms/step - loss: 0.0609 - dense_16_loss: 0.0038 - dense_16_acc: 1.0000 - dense_16_acc_1: 1.0000 - dense_16_acc_2: 1.0000 - dense_16_acc_3: 1.0000 - dense_16_acc_4: 1.0000 - dense_16_acc_5: 0.9930 - dense_16_acc_6: 0.9962 - dense_16_acc_7: 1.0000 - dense_16_acc_8: 1.0000 - dense_16_acc_9: 1.0000\n",
            "Epoch 64/100\n",
            "10000/10000 [==============================] - 15s 2ms/step - loss: 0.0590 - dense_16_loss: 0.0036 - dense_16_acc: 1.0000 - dense_16_acc_1: 1.0000 - dense_16_acc_2: 1.0000 - dense_16_acc_3: 1.0000 - dense_16_acc_4: 1.0000 - dense_16_acc_5: 0.9935 - dense_16_acc_6: 0.9967 - dense_16_acc_7: 1.0000 - dense_16_acc_8: 1.0000 - dense_16_acc_9: 1.0000\n",
            "Epoch 65/100\n",
            "10000/10000 [==============================] - 15s 2ms/step - loss: 0.0576 - dense_16_loss: 0.0035 - dense_16_acc: 1.0000 - dense_16_acc_1: 1.0000 - dense_16_acc_2: 1.0000 - dense_16_acc_3: 1.0000 - dense_16_acc_4: 1.0000 - dense_16_acc_5: 0.9936 - dense_16_acc_6: 0.9969 - dense_16_acc_7: 1.0000 - dense_16_acc_8: 1.0000 - dense_16_acc_9: 1.0000\n",
            "Epoch 66/100\n",
            "10000/10000 [==============================] - 15s 2ms/step - loss: 0.0562 - dense_16_loss: 0.0034 - dense_16_acc: 1.0000 - dense_16_acc_1: 1.0000 - dense_16_acc_2: 1.0000 - dense_16_acc_3: 1.0000 - dense_16_acc_4: 1.0000 - dense_16_acc_5: 0.9935 - dense_16_acc_6: 0.9975 - dense_16_acc_7: 1.0000 - dense_16_acc_8: 1.0000 - dense_16_acc_9: 1.0000\n",
            "Epoch 67/100\n",
            "10000/10000 [==============================] - 15s 2ms/step - loss: 0.0545 - dense_16_loss: 0.0033 - dense_16_acc: 1.0000 - dense_16_acc_1: 1.0000 - dense_16_acc_2: 1.0000 - dense_16_acc_3: 1.0000 - dense_16_acc_4: 1.0000 - dense_16_acc_5: 0.9936 - dense_16_acc_6: 0.9973 - dense_16_acc_7: 1.0000 - dense_16_acc_8: 1.0000 - dense_16_acc_9: 1.0000\n",
            "Epoch 68/100\n",
            "10000/10000 [==============================] - 15s 2ms/step - loss: 0.0528 - dense_16_loss: 0.0032 - dense_16_acc: 1.0000 - dense_16_acc_1: 1.0000 - dense_16_acc_2: 1.0000 - dense_16_acc_3: 1.0000 - dense_16_acc_4: 1.0000 - dense_16_acc_5: 0.9940 - dense_16_acc_6: 0.9973 - dense_16_acc_7: 1.0000 - dense_16_acc_8: 1.0000 - dense_16_acc_9: 1.0000\n",
            "Epoch 69/100\n",
            "10000/10000 [==============================] - 15s 2ms/step - loss: 0.0517 - dense_16_loss: 0.0032 - dense_16_acc: 1.0000 - dense_16_acc_1: 1.0000 - dense_16_acc_2: 1.0000 - dense_16_acc_3: 1.0000 - dense_16_acc_4: 1.0000 - dense_16_acc_5: 0.9940 - dense_16_acc_6: 0.9973 - dense_16_acc_7: 1.0000 - dense_16_acc_8: 1.0000 - dense_16_acc_9: 1.0000\n",
            "Epoch 70/100\n",
            "10000/10000 [==============================] - 15s 2ms/step - loss: 0.0501 - dense_16_loss: 0.0030 - dense_16_acc: 1.0000 - dense_16_acc_1: 1.0000 - dense_16_acc_2: 1.0000 - dense_16_acc_3: 1.0000 - dense_16_acc_4: 1.0000 - dense_16_acc_5: 0.9940 - dense_16_acc_6: 0.9980 - dense_16_acc_7: 1.0000 - dense_16_acc_8: 1.0000 - dense_16_acc_9: 1.0000\n",
            "Epoch 71/100\n",
            "10000/10000 [==============================] - 15s 2ms/step - loss: 0.0484 - dense_16_loss: 0.0030 - dense_16_acc: 1.0000 - dense_16_acc_1: 1.0000 - dense_16_acc_2: 1.0000 - dense_16_acc_3: 1.0000 - dense_16_acc_4: 1.0000 - dense_16_acc_5: 0.9951 - dense_16_acc_6: 0.9977 - dense_16_acc_7: 1.0000 - dense_16_acc_8: 1.0000 - dense_16_acc_9: 1.0000\n",
            "Epoch 72/100\n",
            "10000/10000 [==============================] - 15s 2ms/step - loss: 0.0477 - dense_16_loss: 0.0028 - dense_16_acc: 1.0000 - dense_16_acc_1: 1.0000 - dense_16_acc_2: 1.0000 - dense_16_acc_3: 1.0000 - dense_16_acc_4: 1.0000 - dense_16_acc_5: 0.9947 - dense_16_acc_6: 0.9977 - dense_16_acc_7: 1.0000 - dense_16_acc_8: 1.0000 - dense_16_acc_9: 1.0000\n",
            "Epoch 73/100\n",
            "10000/10000 [==============================] - 15s 2ms/step - loss: 0.0457 - dense_16_loss: 0.0027 - dense_16_acc: 1.0000 - dense_16_acc_1: 1.0000 - dense_16_acc_2: 1.0000 - dense_16_acc_3: 1.0000 - dense_16_acc_4: 1.0000 - dense_16_acc_5: 0.9944 - dense_16_acc_6: 0.9981 - dense_16_acc_7: 1.0000 - dense_16_acc_8: 1.0000 - dense_16_acc_9: 1.0000\n",
            "Epoch 74/100\n",
            "10000/10000 [==============================] - 15s 2ms/step - loss: 0.0450 - dense_16_loss: 0.0028 - dense_16_acc: 1.0000 - dense_16_acc_1: 1.0000 - dense_16_acc_2: 1.0000 - dense_16_acc_3: 1.0000 - dense_16_acc_4: 1.0000 - dense_16_acc_5: 0.9950 - dense_16_acc_6: 0.9981 - dense_16_acc_7: 1.0000 - dense_16_acc_8: 1.0000 - dense_16_acc_9: 1.0000\n",
            "Epoch 75/100\n",
            "10000/10000 [==============================] - 15s 2ms/step - loss: 0.0432 - dense_16_loss: 0.0026 - dense_16_acc: 1.0000 - dense_16_acc_1: 1.0000 - dense_16_acc_2: 1.0000 - dense_16_acc_3: 1.0000 - dense_16_acc_4: 1.0000 - dense_16_acc_5: 0.9951 - dense_16_acc_6: 0.9985 - dense_16_acc_7: 1.0000 - dense_16_acc_8: 1.0000 - dense_16_acc_9: 1.0000\n",
            "Epoch 76/100\n",
            "10000/10000 [==============================] - 15s 2ms/step - loss: 0.0419 - dense_16_loss: 0.0025 - dense_16_acc: 1.0000 - dense_16_acc_1: 1.0000 - dense_16_acc_2: 1.0000 - dense_16_acc_3: 1.0000 - dense_16_acc_4: 1.0000 - dense_16_acc_5: 0.9951 - dense_16_acc_6: 0.9982 - dense_16_acc_7: 1.0000 - dense_16_acc_8: 1.0000 - dense_16_acc_9: 1.0000\n",
            "Epoch 77/100\n",
            "10000/10000 [==============================] - 15s 2ms/step - loss: 0.0410 - dense_16_loss: 0.0025 - dense_16_acc: 1.0000 - dense_16_acc_1: 1.0000 - dense_16_acc_2: 1.0000 - dense_16_acc_3: 1.0000 - dense_16_acc_4: 1.0000 - dense_16_acc_5: 0.9951 - dense_16_acc_6: 0.9986 - dense_16_acc_7: 1.0000 - dense_16_acc_8: 1.0000 - dense_16_acc_9: 1.0000\n",
            "Epoch 78/100\n",
            "10000/10000 [==============================] - 15s 2ms/step - loss: 0.0395 - dense_16_loss: 0.0024 - dense_16_acc: 1.0000 - dense_16_acc_1: 1.0000 - dense_16_acc_2: 1.0000 - dense_16_acc_3: 1.0000 - dense_16_acc_4: 1.0000 - dense_16_acc_5: 0.9956 - dense_16_acc_6: 0.9983 - dense_16_acc_7: 1.0000 - dense_16_acc_8: 1.0000 - dense_16_acc_9: 1.0000\n",
            "Epoch 79/100\n",
            "10000/10000 [==============================] - 15s 2ms/step - loss: 0.0382 - dense_16_loss: 0.0023 - dense_16_acc: 1.0000 - dense_16_acc_1: 1.0000 - dense_16_acc_2: 1.0000 - dense_16_acc_3: 1.0000 - dense_16_acc_4: 1.0000 - dense_16_acc_5: 0.9958 - dense_16_acc_6: 0.9988 - dense_16_acc_7: 1.0000 - dense_16_acc_8: 1.0000 - dense_16_acc_9: 1.0000\n",
            "Epoch 80/100\n",
            "10000/10000 [==============================] - 15s 2ms/step - loss: 0.0390 - dense_16_loss: 0.0025 - dense_16_acc: 1.0000 - dense_16_acc_1: 1.0000 - dense_16_acc_2: 1.0000 - dense_16_acc_3: 1.0000 - dense_16_acc_4: 1.0000 - dense_16_acc_5: 0.9959 - dense_16_acc_6: 0.9988 - dense_16_acc_7: 1.0000 - dense_16_acc_8: 1.0000 - dense_16_acc_9: 0.9998\n",
            "Epoch 81/100\n",
            "10000/10000 [==============================] - 15s 2ms/step - loss: 0.0360 - dense_16_loss: 0.0022 - dense_16_acc: 1.0000 - dense_16_acc_1: 1.0000 - dense_16_acc_2: 1.0000 - dense_16_acc_3: 1.0000 - dense_16_acc_4: 1.0000 - dense_16_acc_5: 0.9965 - dense_16_acc_6: 0.9990 - dense_16_acc_7: 1.0000 - dense_16_acc_8: 1.0000 - dense_16_acc_9: 1.0000\n",
            "Epoch 82/100\n",
            "10000/10000 [==============================] - 15s 2ms/step - loss: 0.0354 - dense_16_loss: 0.0021 - dense_16_acc: 1.0000 - dense_16_acc_1: 1.0000 - dense_16_acc_2: 1.0000 - dense_16_acc_3: 1.0000 - dense_16_acc_4: 1.0000 - dense_16_acc_5: 0.9964 - dense_16_acc_6: 0.9990 - dense_16_acc_7: 1.0000 - dense_16_acc_8: 1.0000 - dense_16_acc_9: 1.0000\n",
            "Epoch 83/100\n",
            "10000/10000 [==============================] - 15s 2ms/step - loss: 0.0340 - dense_16_loss: 0.0020 - dense_16_acc: 1.0000 - dense_16_acc_1: 1.0000 - dense_16_acc_2: 1.0000 - dense_16_acc_3: 1.0000 - dense_16_acc_4: 1.0000 - dense_16_acc_5: 0.9963 - dense_16_acc_6: 0.9991 - dense_16_acc_7: 1.0000 - dense_16_acc_8: 1.0000 - dense_16_acc_9: 1.0000\n",
            "Epoch 84/100\n",
            "10000/10000 [==============================] - 15s 2ms/step - loss: 0.0331 - dense_16_loss: 0.0020 - dense_16_acc: 1.0000 - dense_16_acc_1: 1.0000 - dense_16_acc_2: 1.0000 - dense_16_acc_3: 1.0000 - dense_16_acc_4: 1.0000 - dense_16_acc_5: 0.9966 - dense_16_acc_6: 0.9993 - dense_16_acc_7: 1.0000 - dense_16_acc_8: 1.0000 - dense_16_acc_9: 1.0000\n",
            "Epoch 85/100\n",
            "10000/10000 [==============================] - 15s 2ms/step - loss: 0.0322 - dense_16_loss: 0.0020 - dense_16_acc: 1.0000 - dense_16_acc_1: 1.0000 - dense_16_acc_2: 1.0000 - dense_16_acc_3: 1.0000 - dense_16_acc_4: 1.0000 - dense_16_acc_5: 0.9966 - dense_16_acc_6: 0.9990 - dense_16_acc_7: 1.0000 - dense_16_acc_8: 1.0000 - dense_16_acc_9: 1.0000\n",
            "Epoch 86/100\n",
            "10000/10000 [==============================] - 15s 2ms/step - loss: 0.0313 - dense_16_loss: 0.0019 - dense_16_acc: 1.0000 - dense_16_acc_1: 1.0000 - dense_16_acc_2: 1.0000 - dense_16_acc_3: 1.0000 - dense_16_acc_4: 1.0000 - dense_16_acc_5: 0.9969 - dense_16_acc_6: 0.9993 - dense_16_acc_7: 1.0000 - dense_16_acc_8: 1.0000 - dense_16_acc_9: 1.0000\n",
            "Epoch 87/100\n",
            "10000/10000 [==============================] - 15s 2ms/step - loss: 0.0303 - dense_16_loss: 0.0019 - dense_16_acc: 1.0000 - dense_16_acc_1: 1.0000 - dense_16_acc_2: 1.0000 - dense_16_acc_3: 1.0000 - dense_16_acc_4: 1.0000 - dense_16_acc_5: 0.9968 - dense_16_acc_6: 0.9993 - dense_16_acc_7: 1.0000 - dense_16_acc_8: 1.0000 - dense_16_acc_9: 1.0000\n",
            "Epoch 88/100\n",
            "10000/10000 [==============================] - 15s 2ms/step - loss: 0.0297 - dense_16_loss: 0.0019 - dense_16_acc: 1.0000 - dense_16_acc_1: 1.0000 - dense_16_acc_2: 1.0000 - dense_16_acc_3: 1.0000 - dense_16_acc_4: 1.0000 - dense_16_acc_5: 0.9965 - dense_16_acc_6: 0.9995 - dense_16_acc_7: 1.0000 - dense_16_acc_8: 1.0000 - dense_16_acc_9: 1.0000\n",
            "Epoch 89/100\n",
            "10000/10000 [==============================] - 15s 2ms/step - loss: 0.0288 - dense_16_loss: 0.0018 - dense_16_acc: 1.0000 - dense_16_acc_1: 1.0000 - dense_16_acc_2: 1.0000 - dense_16_acc_3: 1.0000 - dense_16_acc_4: 1.0000 - dense_16_acc_5: 0.9968 - dense_16_acc_6: 0.9992 - dense_16_acc_7: 1.0000 - dense_16_acc_8: 1.0000 - dense_16_acc_9: 1.0000\n",
            "Epoch 90/100\n",
            "10000/10000 [==============================] - 15s 2ms/step - loss: 0.0281 - dense_16_loss: 0.0017 - dense_16_acc: 1.0000 - dense_16_acc_1: 1.0000 - dense_16_acc_2: 1.0000 - dense_16_acc_3: 1.0000 - dense_16_acc_4: 1.0000 - dense_16_acc_5: 0.9972 - dense_16_acc_6: 0.9993 - dense_16_acc_7: 1.0000 - dense_16_acc_8: 1.0000 - dense_16_acc_9: 1.0000\n",
            "Epoch 91/100\n",
            "10000/10000 [==============================] - 15s 2ms/step - loss: 0.0275 - dense_16_loss: 0.0018 - dense_16_acc: 1.0000 - dense_16_acc_1: 1.0000 - dense_16_acc_2: 1.0000 - dense_16_acc_3: 1.0000 - dense_16_acc_4: 1.0000 - dense_16_acc_5: 0.9974 - dense_16_acc_6: 0.9995 - dense_16_acc_7: 1.0000 - dense_16_acc_8: 1.0000 - dense_16_acc_9: 1.0000\n",
            "Epoch 92/100\n",
            "10000/10000 [==============================] - 15s 2ms/step - loss: 0.0265 - dense_16_loss: 0.0016 - dense_16_acc: 1.0000 - dense_16_acc_1: 1.0000 - dense_16_acc_2: 1.0000 - dense_16_acc_3: 1.0000 - dense_16_acc_4: 1.0000 - dense_16_acc_5: 0.9973 - dense_16_acc_6: 0.9996 - dense_16_acc_7: 1.0000 - dense_16_acc_8: 1.0000 - dense_16_acc_9: 1.0000\n",
            "Epoch 93/100\n",
            "10000/10000 [==============================] - 15s 2ms/step - loss: 0.0257 - dense_16_loss: 0.0016 - dense_16_acc: 1.0000 - dense_16_acc_1: 1.0000 - dense_16_acc_2: 1.0000 - dense_16_acc_3: 1.0000 - dense_16_acc_4: 1.0000 - dense_16_acc_5: 0.9974 - dense_16_acc_6: 0.9996 - dense_16_acc_7: 1.0000 - dense_16_acc_8: 1.0000 - dense_16_acc_9: 1.0000\n",
            "Epoch 94/100\n",
            "10000/10000 [==============================] - 15s 2ms/step - loss: 0.0250 - dense_16_loss: 0.0016 - dense_16_acc: 1.0000 - dense_16_acc_1: 1.0000 - dense_16_acc_2: 1.0000 - dense_16_acc_3: 1.0000 - dense_16_acc_4: 1.0000 - dense_16_acc_5: 0.9975 - dense_16_acc_6: 0.9994 - dense_16_acc_7: 1.0000 - dense_16_acc_8: 1.0000 - dense_16_acc_9: 1.0000\n",
            "Epoch 95/100\n",
            "10000/10000 [==============================] - 15s 2ms/step - loss: 0.0242 - dense_16_loss: 0.0015 - dense_16_acc: 1.0000 - dense_16_acc_1: 1.0000 - dense_16_acc_2: 1.0000 - dense_16_acc_3: 1.0000 - dense_16_acc_4: 1.0000 - dense_16_acc_5: 0.9976 - dense_16_acc_6: 0.9996 - dense_16_acc_7: 1.0000 - dense_16_acc_8: 1.0000 - dense_16_acc_9: 1.0000\n",
            "Epoch 96/100\n",
            "10000/10000 [==============================] - 15s 2ms/step - loss: 0.0238 - dense_16_loss: 0.0015 - dense_16_acc: 1.0000 - dense_16_acc_1: 1.0000 - dense_16_acc_2: 1.0000 - dense_16_acc_3: 1.0000 - dense_16_acc_4: 1.0000 - dense_16_acc_5: 0.9977 - dense_16_acc_6: 0.9995 - dense_16_acc_7: 1.0000 - dense_16_acc_8: 1.0000 - dense_16_acc_9: 1.0000\n",
            "Epoch 97/100\n",
            "10000/10000 [==============================] - 15s 2ms/step - loss: 0.0230 - dense_16_loss: 0.0015 - dense_16_acc: 1.0000 - dense_16_acc_1: 1.0000 - dense_16_acc_2: 1.0000 - dense_16_acc_3: 1.0000 - dense_16_acc_4: 1.0000 - dense_16_acc_5: 0.9978 - dense_16_acc_6: 0.9996 - dense_16_acc_7: 1.0000 - dense_16_acc_8: 1.0000 - dense_16_acc_9: 1.0000\n",
            "Epoch 98/100\n",
            "10000/10000 [==============================] - 15s 2ms/step - loss: 0.0223 - dense_16_loss: 0.0015 - dense_16_acc: 1.0000 - dense_16_acc_1: 1.0000 - dense_16_acc_2: 1.0000 - dense_16_acc_3: 1.0000 - dense_16_acc_4: 1.0000 - dense_16_acc_5: 0.9979 - dense_16_acc_6: 0.9995 - dense_16_acc_7: 1.0000 - dense_16_acc_8: 1.0000 - dense_16_acc_9: 1.0000\n",
            "Epoch 99/100\n",
            "10000/10000 [==============================] - 15s 2ms/step - loss: 0.0220 - dense_16_loss: 0.0014 - dense_16_acc: 1.0000 - dense_16_acc_1: 1.0000 - dense_16_acc_2: 1.0000 - dense_16_acc_3: 1.0000 - dense_16_acc_4: 1.0000 - dense_16_acc_5: 0.9976 - dense_16_acc_6: 0.9997 - dense_16_acc_7: 1.0000 - dense_16_acc_8: 1.0000 - dense_16_acc_9: 1.0000\n",
            "Epoch 100/100\n",
            "10000/10000 [==============================] - 15s 2ms/step - loss: 0.0212 - dense_16_loss: 0.0014 - dense_16_acc: 1.0000 - dense_16_acc_1: 1.0000 - dense_16_acc_2: 1.0000 - dense_16_acc_3: 1.0000 - dense_16_acc_4: 1.0000 - dense_16_acc_5: 0.9981 - dense_16_acc_6: 0.9996 - dense_16_acc_7: 1.0000 - dense_16_acc_8: 1.0000 - dense_16_acc_9: 1.0000\n"
          ],
          "name": "stdout"
        },
        {
          "output_type": "execute_result",
          "data": {
            "text/plain": [
              "<keras.callbacks.History at 0x7ffa567aee80>"
            ]
          },
          "metadata": {
            "tags": []
          },
          "execution_count": 168
        }
      ]
    },
    {
      "metadata": {
        "id": "IfeJ14nDqpOH",
        "colab_type": "code",
        "colab": {}
      },
      "cell_type": "code",
      "source": [
        "model.save_weights('weights.h5')"
      ],
      "execution_count": 0,
      "outputs": []
    },
    {
      "metadata": {
        "id": "6yDmDC9Ik8uF",
        "colab_type": "text"
      },
      "cell_type": "markdown",
      "source": [
        "**TESTING THE MODEL WITH EXAMPLES**"
      ]
    },
    {
      "metadata": {
        "id": "fIVWNV5tjbr0",
        "colab_type": "code",
        "colab": {
          "base_uri": "https://localhost:8080/",
          "height": 289
        },
        "outputId": "296bce82-bf67-43a6-b437-a9c12b7faedc"
      },
      "cell_type": "code",
      "source": [
        "EXAMPLES = ['3 May 1979', '5 April 09', '21th of August 2016', 'Tue 10 Jul 2007', 'Saturday May 9 2018', 'March 3 2001', 'March 3rd 2001', '1 March 2001']\n",
        "for example in EXAMPLES:\n",
        "  source = string_to_int(example, Tx, human_vocab)\n",
        "  source = np.array(list(map(lambda x: to_categorical(x, num_classes=len(human_vocab)), source))).reshape((1, Tx, len(human_vocab)))\n",
        "  prediction = model.predict([source, np.zeros((1, n_s)), np.zeros((1, n_s))])\n",
        "  prediction = np.array(np.argmax(prediction, axis = -1))\n",
        "  output = [inv_machine_vocab[int(i)] for i in prediction]\n",
        "  \n",
        "  print('source: ', example)\n",
        "  print('output: ', ''.join(output))"
      ],
      "execution_count": 170,
      "outputs": [
        {
          "output_type": "stream",
          "text": [
            "source:  3 May 1979\n",
            "output:  1979-05-03\n",
            "source:  5 April 09\n",
            "output:  2009-04-05\n",
            "source:  21th of August 2016\n",
            "output:  2016-08-00\n",
            "source:  Tue 10 Jul 2007\n",
            "output:  2007-07-10\n",
            "source:  Saturday May 9 2018\n",
            "output:  2018-05-09\n",
            "source:  March 3 2001\n",
            "output:  2001-03-03\n",
            "source:  March 3rd 2001\n",
            "output:  2001-03-00\n",
            "source:  1 March 2001\n",
            "output:  2001-03-01\n"
          ],
          "name": "stdout"
        }
      ]
    },
    {
      "metadata": {
        "id": "nkmi0wjJua1S",
        "colab_type": "text"
      },
      "cell_type": "markdown",
      "source": [
        "**VISUALISING ATTENTION WEIGHTS ALPHAS**"
      ]
    },
    {
      "metadata": {
        "id": "dm0pG6oXuhZf",
        "colab_type": "code",
        "colab": {}
      },
      "cell_type": "code",
      "source": [
        "def plot_attention_map(model, input_vocabulary, inv_output_vocabulary, text, n_s = 128, num = 6, Tx = 30, Ty = 10):\n",
        "    \"\"\"\n",
        "    Plot the attention map.\n",
        "  \n",
        "    \"\"\"\n",
        "    attention_map = np.zeros((10, 30))\n",
        "    Ty, Tx = attention_map.shape\n",
        "    \n",
        "    s0 = np.zeros((1, n_s))\n",
        "    c0 = np.zeros((1, n_s))\n",
        "    layer = model.layers[num]\n",
        "\n",
        "    encoded = np.array(string_to_int(text, Tx, input_vocabulary)).reshape((1, 30))\n",
        "    encoded = np.array(list(map(lambda x: to_categorical(x, num_classes=len(input_vocabulary)), encoded)))\n",
        "\n",
        "    f = K.function(model.inputs, [layer.get_output_at(t) for t in range(Ty)])\n",
        "    r = f([encoded, s0, c0])\n",
        "    \n",
        "    for t in range(Ty):\n",
        "        for t_prime in range(Tx):\n",
        "            attention_map[t][t_prime] = r[t][0,t_prime,0]\n",
        "\n",
        "    # Normalize attention map\n",
        "#     row_max = attention_map.max(axis=1)\n",
        "#     attention_map = attention_map / row_max[:, None]\n",
        "\n",
        "    prediction = model.predict([encoded, s0, c0])\n",
        "    \n",
        "    predicted_text = []\n",
        "    for i in range(len(prediction)):\n",
        "        predicted_text.append(int(np.argmax(prediction[i], axis=1)))\n",
        "        \n",
        "    predicted_text = list(predicted_text)\n",
        "    predicted_text = int_to_string(predicted_text, inv_output_vocabulary)\n",
        "    text_ = list(text)\n",
        "    \n",
        "    # get the lengths of the string\n",
        "    input_length = len(text)\n",
        "    output_length = Ty\n",
        "    \n",
        "    # Plot the attention_map\n",
        "    plt.clf()\n",
        "    f = plt.figure(figsize=(8, 8.5))\n",
        "    ax = f.add_subplot(1, 1, 1)\n",
        "\n",
        "    # add image\n",
        "    i = ax.imshow(attention_map, interpolation='nearest', cmap='Blues')\n",
        "\n",
        "    # add colorbar\n",
        "    cbaxes = f.add_axes([0.2, 0, 0.6, 0.03])\n",
        "    cbar = f.colorbar(i, cax=cbaxes, orientation='horizontal')\n",
        "    cbar.ax.set_xlabel('Alpha value (Probability output of the \"softmax\")', labelpad=2)\n",
        "\n",
        "    # add labels\n",
        "    ax.set_yticks(range(output_length))\n",
        "    ax.set_yticklabels(predicted_text[:output_length])\n",
        "\n",
        "    ax.set_xticks(range(input_length))\n",
        "    ax.set_xticklabels(text_[:input_length], rotation=45)\n",
        "\n",
        "    ax.set_xlabel('Input Sequence')\n",
        "    ax.set_ylabel('Output Sequence')\n",
        "\n",
        "    # add grid and legend\n",
        "    ax.grid()\n",
        "\n",
        "    #f.show()\n",
        "    \n",
        "    return attention_map"
      ],
      "execution_count": 0,
      "outputs": []
    },
    {
      "metadata": {
        "id": "0ooTJV38uiMn",
        "colab_type": "code",
        "colab": {
          "base_uri": "https://localhost:8080/",
          "height": 459
        },
        "outputId": "37ba63ec-0311-48c6-9069-af8e84d299d9"
      },
      "cell_type": "code",
      "source": [
        "import matplotlib.pyplot as plt\n",
        "attention_map = plot_attention_map(model, human_vocab, inv_machine_vocab, \"Tuesday 09 Oct 1993\", num = 7, n_s = 64)"
      ],
      "execution_count": 173,
      "outputs": [
        {
          "output_type": "display_data",
          "data": {
            "text/plain": [
              "<matplotlib.figure.Figure at 0x7ffa50069828>"
            ]
          },
          "metadata": {
            "tags": []
          }
        },
        {
          "output_type": "display_data",
          "data": {
            "image/png": "[encoded data removed]",
            "text/plain": [
              "<matplotlib.figure.Figure at 0x7ffa50069278>"
            ]
          },
          "metadata": {
            "tags": []
          }
        }
      ]
    },
    {
      "metadata": {
        "id": "-dMF4Zzduj2V",
        "colab_type": "code",
        "colab": {}
      },
      "cell_type": "code",
      "source": [
        ""
      ],
      "execution_count": 0,
      "outputs": []
    }
  ]
}